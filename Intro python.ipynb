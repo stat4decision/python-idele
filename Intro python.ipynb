{
 "cells": [
  {
   "cell_type": "markdown",
   "metadata": {},
   "source": [
    "# Introduction python"
   ]
  },
  {
   "cell_type": "code",
   "execution_count": 3,
   "metadata": {
    "collapsed": false
   },
   "outputs": [
    {
     "data": {
      "text/plain": [
       "9"
      ]
     },
     "execution_count": 3,
     "metadata": {},
     "output_type": "execute_result"
    }
   ],
   "source": [
    "4+5"
   ]
  },
  {
   "cell_type": "code",
   "execution_count": 6,
   "metadata": {
    "collapsed": false
   },
   "outputs": [
    {
     "name": "stdout",
     "output_type": "stream",
     "text": [
      "9\n"
     ]
    }
   ],
   "source": [
    "print(4+5)"
   ]
  },
  {
   "cell_type": "code",
   "execution_count": 12,
   "metadata": {
    "collapsed": false
   },
   "outputs": [
    {
     "name": "stdout",
     "output_type": "stream",
     "text": [
      "True\n"
     ]
    },
    {
     "data": {
      "text/plain": [
       "(int, float, bool, str)"
      ]
     },
     "execution_count": 12,
     "metadata": {},
     "output_type": "execute_result"
    }
   ],
   "source": [
    "#ceci est du code python\n",
    "a=2\n",
    "b=3.2\n",
    "c=True\n",
    "print(c)\n",
    "d=\"python\"\n",
    "type(a),type(b),type(c),type(d)"
   ]
  },
  {
   "cell_type": "code",
   "execution_count": 13,
   "metadata": {
    "collapsed": false
   },
   "outputs": [
    {
     "data": {
      "text/plain": [
       "6"
      ]
     },
     "execution_count": 13,
     "metadata": {},
     "output_type": "execute_result"
    }
   ],
   "source": [
    "#Définir une variable comprenant la chaîne ‘Python pour la Science’, \n",
    "#utilisez des opérations sur les chaînes pour afficher ‘PYTHON POUR LA DATA SCIENCE’\n",
    "\n",
    "len(d)"
   ]
  },
  {
   "cell_type": "code",
   "execution_count": 24,
   "metadata": {
    "collapsed": false
   },
   "outputs": [
    {
     "data": {
      "text/plain": [
       "'PYTHON POUR LA DATA SCIENCE'"
      ]
     },
     "execution_count": 24,
     "metadata": {},
     "output_type": "execute_result"
    }
   ],
   "source": [
    "d.upper()\n",
    "\n",
    "str1= \"python pour la science\"\n",
    "str1=str1.upper()\n",
    "str1[:14]+\" DATA \"+str1[-7:]"
   ]
  },
  {
   "cell_type": "code",
   "execution_count": 31,
   "metadata": {
    "collapsed": false
   },
   "outputs": [
    {
     "name": "stdout",
     "output_type": "stream",
     "text": [
      "Raté\n"
     ]
    }
   ],
   "source": [
    "#Créez une fonction avec un booléen en entrée \n",
    "#qui affiche une valeur différente en fonction du booléen entré.\n",
    "d=\"p\"\n",
    "\n",
    "if d==\"python\":\n",
    "    print(\"Super\")\n",
    "else:\n",
    "    print(\"Raté\")\n"
   ]
  },
  {
   "cell_type": "code",
   "execution_count": 44,
   "metadata": {
    "collapsed": false
   },
   "outputs": [
    {
     "name": "stdout",
     "output_type": "stream",
     "text": [
      "0\n",
      "1\n",
      "2\n",
      "3\n",
      "4\n",
      "5\n",
      "6.0\n"
     ]
    }
   ],
   "source": [
    "#Créez une boucle for qui parcourt un range de 0 à 5 et qui ajoute 1 \n",
    "#à une variable à chaque boucle\n",
    "x=0.0\n",
    "for i in range(0,6):\n",
    "    print(i)\n",
    "    x+=1 #x=x+1\n",
    "print(x)"
   ]
  },
  {
   "cell_type": "code",
   "execution_count": 45,
   "metadata": {
    "collapsed": false
   },
   "outputs": [
    {
     "name": "stdout",
     "output_type": "stream",
     "text": [
      "Entrez votre nom :Emmanuel\n"
     ]
    }
   ],
   "source": [
    "str2=input(\"Entrez votre nom :\")"
   ]
  },
  {
   "cell_type": "code",
   "execution_count": 46,
   "metadata": {
    "collapsed": false
   },
   "outputs": [
    {
     "data": {
      "text/plain": [
       "'Emmanuel'"
      ]
     },
     "execution_count": 46,
     "metadata": {},
     "output_type": "execute_result"
    }
   ],
   "source": [
    "str2"
   ]
  },
  {
   "cell_type": "code",
   "execution_count": 66,
   "metadata": {
    "collapsed": false
   },
   "outputs": [
    {
     "data": {
      "text/plain": [
       "'PYTHON POUR LA SCIENCE ET LA DATA'"
      ]
     },
     "execution_count": 66,
     "metadata": {},
     "output_type": "execute_result"
    }
   ],
   "source": [
    "#Créez la chaîne ‘Vive la data science’, transformez-la en une liste de quatre éléments.  \n",
    "list1=str1.split(\" \")\n",
    "list1.count(\"PYTHON\")\n",
    "\n",
    "#Ajoutez les valeurs ‘et’ et ‘Python’ à cette liste.  Affichez la chaîne de caractère obtenue.\n",
    "list1.append(\"ET LA DATA\")\n",
    "list1\n",
    "\n",
    "str3=\" \".join(list1)\n",
    "str3"
   ]
  },
  {
   "cell_type": "code",
   "execution_count": 70,
   "metadata": {
    "collapsed": false
   },
   "outputs": [
    {
     "name": "stdout",
     "output_type": "stream",
     "text": [
      "Youpi!\n",
      "150\n"
     ]
    }
   ],
   "source": [
    "#Créer une fonction sans argument qui renvoie une valeur.\n",
    "\n",
    "def fonc1():\n",
    "    return \"Youpi!\", 150\n",
    "\n",
    "x, y = fonc1()\n",
    "\n",
    "print(x)\n",
    "print(y)"
   ]
  },
  {
   "cell_type": "code",
   "execution_count": 71,
   "metadata": {
    "collapsed": true
   },
   "outputs": [],
   "source": [
    "#Construire une fonction prenant en entrée deux listes et qui retourne la moyenne de tous les éléments \n",
    "#des deux listes (une seule valeur)\n",
    "def valeur_moyenne(list1,list2):\n",
    "    moy=0.0\n",
    "    for val in list1+list2:\n",
    "        moy+=val\n",
    "    return moy/len(list1+list2)"
   ]
  },
  {
   "cell_type": "code",
   "execution_count": 84,
   "metadata": {
    "collapsed": false
   },
   "outputs": [],
   "source": [
    "#Construire une fonction prenant en entrée deux listes et qui affiche la phrase :\n",
    "#‘La moyenne des éléments des listes liste1 et liste2 est de valeur_moyenne’\n",
    "\n",
    "def affiche_moy(list1,list2):\n",
    "    print(\"La moyenne des éléments des listes %s et %s est de %.2f\" % (list1,list2, valeur_moyenne(list1,list2)))"
   ]
  },
  {
   "cell_type": "code",
   "execution_count": 85,
   "metadata": {
    "collapsed": false
   },
   "outputs": [
    {
     "name": "stdout",
     "output_type": "stream",
     "text": [
      "La moyenne des éléments des listes [1, 2, 3] et [5, 6, 7] est de 4.00\n"
     ]
    }
   ],
   "source": [
    "l1=[1,2,3]\n",
    "l2=[5,6,7]\n",
    "\n",
    "affiche_moy(l1,l2)"
   ]
  },
  {
   "cell_type": "code",
   "execution_count": 97,
   "metadata": {
    "collapsed": false
   },
   "outputs": [],
   "source": [
    "#Définissez une classe CompteBancaire(), qui permette d'instancier des objets tels que compte1, \n",
    "#compte2, etc. \n",
    "#Le constructeur de cette classe initialisera deux attributs d'instance nom et solde, \n",
    "#avec les valeurs par défaut ‘A' et 0.Trois autres méthodes sont définies :\n",
    "#- depot(somme) permettra d'ajouter une certaine somme au solde\n",
    "#- retrait(somme) permettra de retirer une certaine somme du solde\n",
    "#- affiche() permettra d'afficher le solde du compte et un message d’alerte en cas de solde négatif. \n",
    "\n",
    "class CompteBancaire():\n",
    "    def __init__(self, nom=\"A\", solde=0):\n",
    "        self.nom = nom\n",
    "        self.solde = solde\n",
    "    \n",
    "    def depot(self,somme):\n",
    "        self.solde+=somme\n",
    "        \n",
    "compte1=CompteBancaire(\"Dupont\")"
   ]
  },
  {
   "cell_type": "code",
   "execution_count": 98,
   "metadata": {
    "collapsed": false
   },
   "outputs": [
    {
     "data": {
      "text/plain": [
       "100"
      ]
     },
     "execution_count": 98,
     "metadata": {},
     "output_type": "execute_result"
    }
   ],
   "source": [
    "compte1.depot(100)\n",
    "compte1.solde"
   ]
  },
  {
   "cell_type": "code",
   "execution_count": 101,
   "metadata": {
    "collapsed": true
   },
   "outputs": [],
   "source": [
    "def print():\n",
    "    return 22"
   ]
  },
  {
   "cell_type": "code",
   "execution_count": 102,
   "metadata": {
    "collapsed": false
   },
   "outputs": [
    {
     "data": {
      "text/plain": [
       "22"
      ]
     },
     "execution_count": 102,
     "metadata": {},
     "output_type": "execute_result"
    }
   ],
   "source": [
    "print()"
   ]
  },
  {
   "cell_type": "code",
   "execution_count": 107,
   "metadata": {
    "collapsed": false
   },
   "outputs": [
    {
     "data": {
      "text/plain": [
       "22"
      ]
     },
     "execution_count": 107,
     "metadata": {},
     "output_type": "execute_result"
    }
   ],
   "source": [
    "print()"
   ]
  }
 ],
 "metadata": {
  "kernelspec": {
   "display_name": "Python 3",
   "language": "python",
   "name": "python3"
  },
  "language_info": {
   "codemirror_mode": {
    "name": "ipython",
    "version": 3
   },
   "file_extension": ".py",
   "mimetype": "text/x-python",
   "name": "python",
   "nbconvert_exporter": "python",
   "pygments_lexer": "ipython3",
   "version": "3.6.0"
  }
 },
 "nbformat": 4,
 "nbformat_minor": 2
}
