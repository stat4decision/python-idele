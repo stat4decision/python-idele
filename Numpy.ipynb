{
 "cells": [
  {
   "cell_type": "markdown",
   "metadata": {},
   "source": [
    "# La bibliothèque Numpy"
   ]
  },
  {
   "cell_type": "code",
   "execution_count": 1,
   "metadata": {
    "collapsed": false,
    "scrolled": false
   },
   "outputs": [],
   "source": [
    "import numpy as np"
   ]
  },
  {
   "cell_type": "code",
   "execution_count": 4,
   "metadata": {
    "collapsed": false,
    "scrolled": false
   },
   "outputs": [
    {
     "data": {
      "text/plain": [
       "array([1, 4, 8])"
      ]
     },
     "execution_count": 4,
     "metadata": {},
     "output_type": "execute_result"
    }
   ],
   "source": [
    "#on crée des arrays\n",
    "arr1=np.array([1,3,6])\n",
    "arr1\n",
    "arr2= np.arange(3)\n",
    "arr1+arr2"
   ]
  },
  {
   "cell_type": "code",
   "execution_count": 15,
   "metadata": {
    "collapsed": true,
    "scrolled": false
   },
   "outputs": [
    {
     "data": {
      "text/plain": [
       "numpy.ndarray"
      ]
     },
     "execution_count": 15,
     "metadata": {},
     "output_type": "execute_result"
    }
   ],
   "source": [
    "#Créez un array bidimensionnel avec des valeurs quelconques, calculer le cube de cet array\n",
    "arr3=np.array([[1,4,7],[3,5,8]])\n",
    "arr3\n",
    "type(arr3)"
   ]
  },
  {
   "cell_type": "code",
   "execution_count": 21,
   "metadata": {
    "collapsed": false,
    "scrolled": false
   },
   "outputs": [
    {
     "data": {
      "text/plain": [
       "(2, 3)"
      ]
     },
     "execution_count": 21,
     "metadata": {},
     "output_type": "execute_result"
    }
   ],
   "source": [
    "arr4=np.array([1,4,7,3,5,8],dtype=float).reshape(2,3)\n",
    "(arr4**3).shape"
   ]
  },
  {
   "cell_type": "code",
   "execution_count": 25,
   "metadata": {
    "collapsed": false,
    "scrolled": false
   },
   "outputs": [
    {
     "data": {
      "text/plain": [
       "array([[155, 176],\n",
       "       [176, 200]])"
      ]
     },
     "execution_count": 25,
     "metadata": {},
     "output_type": "execute_result"
    }
   ],
   "source": [
    "#Construire une matrice rectangulaire de taille 3 x 2 avec une suite de nombres commençant à 5, \n",
    "#calculer le produit de la transposée par la matrice.\n",
    "\n",
    "arr5=np.arange(5,11).reshape(3,2)\n",
    "np.dot(arr5.T,arr5)"
   ]
  },
  {
   "cell_type": "code",
   "execution_count": 27,
   "metadata": {
    "collapsed": false,
    "scrolled": false
   },
   "outputs": [
    {
     "data": {
      "text/plain": [
       "array([[ 8.33333333, -7.33333333],\n",
       "       [-7.33333333,  6.45833333]])"
      ]
     },
     "execution_count": 27,
     "metadata": {},
     "output_type": "execute_result"
    }
   ],
   "source": [
    "np.linalg.inv(np.dot(arr5.T,arr5))"
   ]
  },
  {
   "cell_type": "code",
   "execution_count": 36,
   "metadata": {
    "collapsed": false
   },
   "outputs": [
    {
     "data": {
      "text/plain": [
       "array([ 0.        ,  0.        ,  0.        , ...,  4.53503632,\n",
       "        4.62140462,  4.71955622])"
      ]
     },
     "execution_count": 36,
     "metadata": {},
     "output_type": "execute_result"
    }
   ],
   "source": [
    "#Générer un array de nombres aléatoires puis remplacer les valeurs plus petites que 0 par 0. np.where()\n",
    "arr6=np.random.randn(1000000)\n",
    "arr6.shape\n",
    "arr7=np.where(arr6<0,0,arr6)\n",
    "np.min(arr7)\n",
    "#Trier l’array obtenu np.sort\n",
    "np.sort(arr7)"
   ]
  },
  {
   "cell_type": "code",
   "execution_count": 38,
   "metadata": {
    "collapsed": true,
    "scrolled": false
   },
   "outputs": [],
   "source": [
    "arr8=np.random.randn(1000000).reshape(10000,100)"
   ]
  },
  {
   "cell_type": "code",
   "execution_count": 45,
   "metadata": {
    "collapsed": false
   },
   "outputs": [
    {
     "data": {
      "text/plain": [
       "array([ 1.01041204,  1.01094138,  1.00137112,  0.99560444,  0.99115526,\n",
       "        0.98688413,  1.01347381,  1.00065853,  0.98719429,  0.986927  ,\n",
       "        0.97569614,  0.9891849 ,  0.99446998,  1.01494226,  1.00428065,\n",
       "        0.99320422,  0.98956797,  1.01122188,  0.99604708,  1.02633669,\n",
       "        0.99979683,  0.9890084 ,  0.99265113,  1.02753269,  1.00230172,\n",
       "        0.98455968,  1.00085162,  0.98825404,  1.01972779,  0.99450916,\n",
       "        0.9848304 ,  1.01022825,  0.96274052,  0.99401097,  0.99824128,\n",
       "        1.01027631,  0.98926931,  1.01116661,  0.99963052,  1.01402915,\n",
       "        1.01288647,  0.99469587,  0.9925265 ,  1.04069237,  0.98325401,\n",
       "        0.98809438,  0.99045174,  0.98845604,  0.98462625,  1.00570827,\n",
       "        0.99322286,  0.99039459,  0.9962593 ,  0.99787602,  0.98233646,\n",
       "        0.99853226,  0.99445129,  1.00849554,  0.98051947,  0.99237013,\n",
       "        0.99207631,  0.98859653,  0.98508026,  0.99979598,  1.0189575 ,\n",
       "        1.0060112 ,  1.00538162,  0.96292428,  0.99540254,  0.99598764,\n",
       "        0.98963571,  1.0006604 ,  0.99356199,  1.00485278,  1.02196801,\n",
       "        0.9845638 ,  0.97886979,  1.0119217 ,  0.97917306,  1.02142211,\n",
       "        1.00777988,  1.01231259,  0.98812197,  0.96757474,  0.9820017 ,\n",
       "        1.01509975,  0.9945701 ,  0.98872544,  1.01059105,  0.98088307,\n",
       "        0.9768804 ,  1.00741105,  0.98895361,  1.0138485 ,  1.02000306,\n",
       "        1.01016619,  1.01231429,  0.99550414,  1.00593421,  0.97864825])"
      ]
     },
     "execution_count": 45,
     "metadata": {},
     "output_type": "execute_result"
    }
   ],
   "source": [
    "#tri par colonne et recherche du max par colonne\n",
    "np.var(np.sort(arr8,axis=0),axis=0)"
   ]
  },
  {
   "cell_type": "code",
   "execution_count": 47,
   "metadata": {
    "collapsed": true,
    "scrolled": false
   },
   "outputs": [],
   "source": [
    "#sauvegarder cette matrice dans array.npy puis dans array.txt\n",
    "np.save(\"array.npy\",arr8)\n",
    "np.savetxt(\"aaray.txt\",arr8)"
   ]
  },
  {
   "cell_type": "code",
   "execution_count": 49,
   "metadata": {
    "collapsed": true
   },
   "outputs": [],
   "source": [
    "arr9=np.load(\"array.npy\")"
   ]
  },
  {
   "cell_type": "code",
   "execution_count": 55,
   "metadata": {
    "collapsed": false
   },
   "outputs": [
    {
     "data": {
      "text/plain": [
       "'C:\\\\Users\\\\Emmanuel\\\\Desktop\\\\formation python'"
      ]
     },
     "execution_count": 55,
     "metadata": {},
     "output_type": "execute_result"
    }
   ],
   "source": [
    "%pwd"
   ]
  },
  {
   "cell_type": "code",
   "execution_count": 56,
   "metadata": {
    "collapsed": false
   },
   "outputs": [
    {
     "data": {
      "text/plain": [
       "(10000, 100)"
      ]
     },
     "execution_count": 56,
     "metadata": {},
     "output_type": "execute_result"
    }
   ],
   "source": [
    "arr9.shape"
   ]
  }
 ],
 "metadata": {
  "kernelspec": {
   "display_name": "Python 3",
   "language": "python",
   "name": "python3"
  },
  "language_info": {
   "codemirror_mode": {
    "name": "ipython",
    "version": 3
   },
   "file_extension": ".py",
   "mimetype": "text/x-python",
   "name": "python",
   "nbconvert_exporter": "python",
   "pygments_lexer": "ipython3",
   "version": "3.6.0"
  }
 },
 "nbformat": 4,
 "nbformat_minor": 2
}
